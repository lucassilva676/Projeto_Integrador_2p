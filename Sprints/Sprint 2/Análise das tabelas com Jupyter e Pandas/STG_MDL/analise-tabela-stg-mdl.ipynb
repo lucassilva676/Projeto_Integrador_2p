{
 "cells": [
  {
   "cell_type": "markdown",
   "metadata": {},
   "source": [
    "**Tabela 'stg_mdl' ou tabela de Modalidade**"
   ]
  },
  {
   "cell_type": "code",
   "execution_count": 1,
   "metadata": {},
   "outputs": [],
   "source": [
    "#Importando a biblioteca necessária\n",
    "import pandas as pd"
   ]
  },
  {
   "cell_type": "code",
   "execution_count": 2,
   "metadata": {},
   "outputs": [],
   "source": [
    "#Lendo a tabela\n",
    "ler = pd.read_excel('STG_MDL.xlsx')"
   ]
  },
  {
   "cell_type": "code",
   "execution_count": 3,
   "metadata": {},
   "outputs": [
    {
     "data": {
      "text/html": [
       "<div>\n",
       "<style scoped>\n",
       "    .dataframe tbody tr th:only-of-type {\n",
       "        vertical-align: middle;\n",
       "    }\n",
       "\n",
       "    .dataframe tbody tr th {\n",
       "        vertical-align: top;\n",
       "    }\n",
       "\n",
       "    .dataframe thead th {\n",
       "        text-align: right;\n",
       "    }\n",
       "</style>\n",
       "<table border=\"1\" class=\"dataframe\">\n",
       "  <thead>\n",
       "    <tr style=\"text-align: right;\">\n",
       "      <th></th>\n",
       "      <th>ID_STG_MDL</th>\n",
       "      <th>COD_MDL</th>\n",
       "      <th>DES_MDL</th>\n",
       "      <th>DAT_INC_DBO</th>\n",
       "    </tr>\n",
       "  </thead>\n",
       "  <tbody>\n",
       "    <tr>\n",
       "      <th>0</th>\n",
       "      <td>17</td>\n",
       "      <td>E02</td>\n",
       "      <td>ADIANTAMENTO DEPOSITANTE</td>\n",
       "      <td>2019-12-19 13:37:34.759</td>\n",
       "    </tr>\n",
       "    <tr>\n",
       "      <th>1</th>\n",
       "      <td>13</td>\n",
       "      <td>B99</td>\n",
       "      <td>OUTROS FINANCIAMENTOS</td>\n",
       "      <td>2019-12-19 13:37:34.759</td>\n",
       "    </tr>\n",
       "    <tr>\n",
       "      <th>2</th>\n",
       "      <td>15</td>\n",
       "      <td>D01</td>\n",
       "      <td>CARTAO DE CREDITO</td>\n",
       "      <td>2019-12-19 13:37:34.759</td>\n",
       "    </tr>\n",
       "    <tr>\n",
       "      <th>3</th>\n",
       "      <td>19</td>\n",
       "      <td>G01</td>\n",
       "      <td>TITULOS DESCONTADOS</td>\n",
       "      <td>2019-12-19 13:37:34.759</td>\n",
       "    </tr>\n",
       "    <tr>\n",
       "      <th>4</th>\n",
       "      <td>2</td>\n",
       "      <td>A02</td>\n",
       "      <td>EMPRESTIMO - CAPITAL DE GIRO</td>\n",
       "      <td>2019-12-19 13:37:34.759</td>\n",
       "    </tr>\n",
       "    <tr>\n",
       "      <th>5</th>\n",
       "      <td>3</td>\n",
       "      <td>A04</td>\n",
       "      <td>EMPRESTIMO - CREDITO PESSOAL</td>\n",
       "      <td>2019-12-19 13:37:34.759</td>\n",
       "    </tr>\n",
       "    <tr>\n",
       "      <th>6</th>\n",
       "      <td>16</td>\n",
       "      <td>E01</td>\n",
       "      <td>CHEQUE ESPECIAL E CONTA GARANTIDA</td>\n",
       "      <td>2019-12-19 13:37:34.759</td>\n",
       "    </tr>\n",
       "    <tr>\n",
       "      <th>7</th>\n",
       "      <td>8</td>\n",
       "      <td>B03</td>\n",
       "      <td>FINANCIAMENTO - IMOBILIARIOS SFH</td>\n",
       "      <td>2019-12-19 13:37:34.759</td>\n",
       "    </tr>\n",
       "    <tr>\n",
       "      <th>8</th>\n",
       "      <td>7</td>\n",
       "      <td>B02</td>\n",
       "      <td>FINANCIAMENTO - IMPORTACAO  E EXPORTACAO</td>\n",
       "      <td>2019-12-19 13:37:34.759</td>\n",
       "    </tr>\n",
       "    <tr>\n",
       "      <th>9</th>\n",
       "      <td>4</td>\n",
       "      <td>A05</td>\n",
       "      <td>EMPRESTIMO - MICROCREDITO</td>\n",
       "      <td>2019-12-19 13:37:34.759</td>\n",
       "    </tr>\n",
       "  </tbody>\n",
       "</table>\n",
       "</div>"
      ],
      "text/plain": [
       "   ID_STG_MDL COD_MDL                                   DES_MDL  \\\n",
       "0          17     E02                  ADIANTAMENTO DEPOSITANTE   \n",
       "1          13     B99                     OUTROS FINANCIAMENTOS   \n",
       "2          15     D01                         CARTAO DE CREDITO   \n",
       "3          19     G01                       TITULOS DESCONTADOS   \n",
       "4           2     A02              EMPRESTIMO - CAPITAL DE GIRO   \n",
       "5           3     A04              EMPRESTIMO - CREDITO PESSOAL   \n",
       "6          16     E01         CHEQUE ESPECIAL E CONTA GARANTIDA   \n",
       "7           8     B03          FINANCIAMENTO - IMOBILIARIOS SFH   \n",
       "8           7     B02  FINANCIAMENTO - IMPORTACAO  E EXPORTACAO   \n",
       "9           4     A05                 EMPRESTIMO - MICROCREDITO   \n",
       "\n",
       "               DAT_INC_DBO  \n",
       "0  2019-12-19 13:37:34.759  \n",
       "1  2019-12-19 13:37:34.759  \n",
       "2  2019-12-19 13:37:34.759  \n",
       "3  2019-12-19 13:37:34.759  \n",
       "4  2019-12-19 13:37:34.759  \n",
       "5  2019-12-19 13:37:34.759  \n",
       "6  2019-12-19 13:37:34.759  \n",
       "7  2019-12-19 13:37:34.759  \n",
       "8  2019-12-19 13:37:34.759  \n",
       "9  2019-12-19 13:37:34.759  "
      ]
     },
     "execution_count": 3,
     "metadata": {},
     "output_type": "execute_result"
    }
   ],
   "source": [
    "#Exibindo as modalidades\n",
    "ler.head(10)"
   ]
  },
  {
   "cell_type": "code",
   "execution_count": 4,
   "metadata": {},
   "outputs": [
    {
     "data": {
      "text/plain": [
       "(19, 4)"
      ]
     },
     "execution_count": 4,
     "metadata": {},
     "output_type": "execute_result"
    }
   ],
   "source": [
    "ler.shape"
   ]
  },
  {
   "cell_type": "code",
   "execution_count": 6,
   "metadata": {},
   "outputs": [],
   "source": [
    "#Convertendo para .csv\n",
    "ler.to_csv('a.csv', index=False, header=True)"
   ]
  },
  {
   "cell_type": "code",
   "execution_count": null,
   "metadata": {},
   "outputs": [],
   "source": []
  }
 ],
 "metadata": {
  "kernelspec": {
   "display_name": "Python 3",
   "language": "python",
   "name": "python3"
  },
  "language_info": {
   "codemirror_mode": {
    "name": "ipython",
    "version": 3
   },
   "file_extension": ".py",
   "mimetype": "text/x-python",
   "name": "python",
   "nbconvert_exporter": "python",
   "pygments_lexer": "ipython3",
   "version": "3.8.2"
  }
 },
 "nbformat": 4,
 "nbformat_minor": 2
}
