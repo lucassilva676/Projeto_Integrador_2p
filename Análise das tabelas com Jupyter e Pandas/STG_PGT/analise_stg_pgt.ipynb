{
 "cells": [
  {
   "cell_type": "code",
   "execution_count": 2,
   "metadata": {},
   "outputs": [],
   "source": [
    "import pandas as pd"
   ]
  },
  {
   "cell_type": "code",
   "execution_count": 3,
   "metadata": {},
   "outputs": [],
   "source": [
    "ler = pd.read_excel('STG_PGT.xlsx')"
   ]
  },
  {
   "cell_type": "code",
   "execution_count": 5,
   "metadata": {},
   "outputs": [
    {
     "data": {
      "text/html": [
       "<div>\n",
       "<style scoped>\n",
       "    .dataframe tbody tr th:only-of-type {\n",
       "        vertical-align: middle;\n",
       "    }\n",
       "\n",
       "    .dataframe tbody tr th {\n",
       "        vertical-align: top;\n",
       "    }\n",
       "\n",
       "    .dataframe thead th {\n",
       "        text-align: right;\n",
       "    }\n",
       "</style>\n",
       "<table border=\"1\" class=\"dataframe\">\n",
       "  <thead>\n",
       "    <tr style=\"text-align: right;\">\n",
       "      <th></th>\n",
       "      <th>ID_STG_PGT</th>\n",
       "      <th>VLR_PGT_FAT</th>\n",
       "      <th>DAT_VCT</th>\n",
       "      <th>COD_MDL</th>\n",
       "      <th>QTD_CLI_CAD_POS</th>\n",
       "      <th>QTD_PGT</th>\n",
       "      <th>ID_FNT_ITT</th>\n",
       "      <th>DES_TIP_PSS</th>\n",
       "      <th>DAT_RSS_FNT_ITT</th>\n",
       "      <th>DAT_INC_DBO</th>\n",
       "    </tr>\n",
       "  </thead>\n",
       "  <tbody>\n",
       "    <tr>\n",
       "      <th>0</th>\n",
       "      <td>451</td>\n",
       "      <td>515711</td>\n",
       "      <td>16082022</td>\n",
       "      <td>A04</td>\n",
       "      <td>22</td>\n",
       "      <td>22</td>\n",
       "      <td>67</td>\n",
       "      <td>F</td>\n",
       "      <td>2020-01-16</td>\n",
       "      <td>2020-01-17 17:50:42.746</td>\n",
       "    </tr>\n",
       "    <tr>\n",
       "      <th>1</th>\n",
       "      <td>452</td>\n",
       "      <td>60763</td>\n",
       "      <td>26102020</td>\n",
       "      <td>A99</td>\n",
       "      <td>2</td>\n",
       "      <td>2</td>\n",
       "      <td>67</td>\n",
       "      <td>F</td>\n",
       "      <td>2020-01-16</td>\n",
       "      <td>2020-01-17 17:50:42.746</td>\n",
       "    </tr>\n",
       "    <tr>\n",
       "      <th>2</th>\n",
       "      <td>453</td>\n",
       "      <td>8588195</td>\n",
       "      <td>24022019</td>\n",
       "      <td>G01</td>\n",
       "      <td>22</td>\n",
       "      <td>22</td>\n",
       "      <td>67</td>\n",
       "      <td>F</td>\n",
       "      <td>2020-01-16</td>\n",
       "      <td>2020-01-17 17:50:42.746</td>\n",
       "    </tr>\n",
       "    <tr>\n",
       "      <th>3</th>\n",
       "      <td>454</td>\n",
       "      <td>369084</td>\n",
       "      <td>24062018</td>\n",
       "      <td>B99</td>\n",
       "      <td>16</td>\n",
       "      <td>23</td>\n",
       "      <td>67</td>\n",
       "      <td>F</td>\n",
       "      <td>2020-01-16</td>\n",
       "      <td>2020-01-17 17:50:42.746</td>\n",
       "    </tr>\n",
       "    <tr>\n",
       "      <th>4</th>\n",
       "      <td>455</td>\n",
       "      <td>13054</td>\n",
       "      <td>20022021</td>\n",
       "      <td>B99</td>\n",
       "      <td>1</td>\n",
       "      <td>1</td>\n",
       "      <td>67</td>\n",
       "      <td>F</td>\n",
       "      <td>2020-01-16</td>\n",
       "      <td>2020-01-17 17:50:42.746</td>\n",
       "    </tr>\n",
       "    <tr>\n",
       "      <th>5</th>\n",
       "      <td>456</td>\n",
       "      <td>1206954</td>\n",
       "      <td>4012018</td>\n",
       "      <td>A04</td>\n",
       "      <td>3</td>\n",
       "      <td>5</td>\n",
       "      <td>67</td>\n",
       "      <td>F</td>\n",
       "      <td>2020-01-16</td>\n",
       "      <td>2020-01-17 17:50:42.746</td>\n",
       "    </tr>\n",
       "    <tr>\n",
       "      <th>6</th>\n",
       "      <td>457</td>\n",
       "      <td>21684</td>\n",
       "      <td>24122018</td>\n",
       "      <td>B07</td>\n",
       "      <td>1</td>\n",
       "      <td>1</td>\n",
       "      <td>67</td>\n",
       "      <td>F</td>\n",
       "      <td>2020-01-16</td>\n",
       "      <td>2020-01-17 17:50:42.746</td>\n",
       "    </tr>\n",
       "    <tr>\n",
       "      <th>7</th>\n",
       "      <td>458</td>\n",
       "      <td>341157</td>\n",
       "      <td>27032016</td>\n",
       "      <td>B99</td>\n",
       "      <td>10</td>\n",
       "      <td>11</td>\n",
       "      <td>67</td>\n",
       "      <td>F</td>\n",
       "      <td>2020-01-16</td>\n",
       "      <td>2020-01-17 17:50:42.746</td>\n",
       "    </tr>\n",
       "    <tr>\n",
       "      <th>8</th>\n",
       "      <td>459</td>\n",
       "      <td>3929</td>\n",
       "      <td>21032018</td>\n",
       "      <td>B05</td>\n",
       "      <td>1</td>\n",
       "      <td>1</td>\n",
       "      <td>67</td>\n",
       "      <td>F</td>\n",
       "      <td>2020-01-16</td>\n",
       "      <td>2020-01-17 17:50:42.746</td>\n",
       "    </tr>\n",
       "    <tr>\n",
       "      <th>9</th>\n",
       "      <td>460</td>\n",
       "      <td>12700</td>\n",
       "      <td>28112018</td>\n",
       "      <td>A05</td>\n",
       "      <td>3</td>\n",
       "      <td>3</td>\n",
       "      <td>67</td>\n",
       "      <td>F</td>\n",
       "      <td>2020-01-16</td>\n",
       "      <td>2020-01-17 17:50:42.746</td>\n",
       "    </tr>\n",
       "  </tbody>\n",
       "</table>\n",
       "</div>"
      ],
      "text/plain": [
       "   ID_STG_PGT  VLR_PGT_FAT   DAT_VCT COD_MDL  QTD_CLI_CAD_POS  QTD_PGT  \\\n",
       "0         451       515711  16082022     A04               22       22   \n",
       "1         452        60763  26102020     A99                2        2   \n",
       "2         453      8588195  24022019     G01               22       22   \n",
       "3         454       369084  24062018     B99               16       23   \n",
       "4         455        13054  20022021     B99                1        1   \n",
       "5         456      1206954   4012018     A04                3        5   \n",
       "6         457        21684  24122018     B07                1        1   \n",
       "7         458       341157  27032016     B99               10       11   \n",
       "8         459         3929  21032018     B05                1        1   \n",
       "9         460        12700  28112018     A05                3        3   \n",
       "\n",
       "   ID_FNT_ITT DES_TIP_PSS DAT_RSS_FNT_ITT              DAT_INC_DBO  \n",
       "0          67           F      2020-01-16  2020-01-17 17:50:42.746  \n",
       "1          67           F      2020-01-16  2020-01-17 17:50:42.746  \n",
       "2          67           F      2020-01-16  2020-01-17 17:50:42.746  \n",
       "3          67           F      2020-01-16  2020-01-17 17:50:42.746  \n",
       "4          67           F      2020-01-16  2020-01-17 17:50:42.746  \n",
       "5          67           F      2020-01-16  2020-01-17 17:50:42.746  \n",
       "6          67           F      2020-01-16  2020-01-17 17:50:42.746  \n",
       "7          67           F      2020-01-16  2020-01-17 17:50:42.746  \n",
       "8          67           F      2020-01-16  2020-01-17 17:50:42.746  \n",
       "9          67           F      2020-01-16  2020-01-17 17:50:42.746  "
      ]
     },
     "execution_count": 5,
     "metadata": {},
     "output_type": "execute_result"
    }
   ],
   "source": [
    "ler.head(10)"
   ]
  },
  {
   "cell_type": "code",
   "execution_count": 6,
   "metadata": {},
   "outputs": [
    {
     "data": {
      "text/plain": [
       "ID_STG_PGT          int64\n",
       "VLR_PGT_FAT         int64\n",
       "DAT_VCT             int64\n",
       "COD_MDL            object\n",
       "QTD_CLI_CAD_POS     int64\n",
       "QTD_PGT             int64\n",
       "ID_FNT_ITT          int64\n",
       "DES_TIP_PSS        object\n",
       "DAT_RSS_FNT_ITT    object\n",
       "DAT_INC_DBO        object\n",
       "dtype: object"
      ]
     },
     "execution_count": 6,
     "metadata": {},
     "output_type": "execute_result"
    }
   ],
   "source": [
    "ler.dtypes"
   ]
  },
  {
   "cell_type": "code",
   "execution_count": 9,
   "metadata": {},
   "outputs": [],
   "source": [
    "ler['VLR_PGT_FAT'] = ler.VLR_PGT_FAT.astype('str')\n",
    "ler['DAT_VCT'] = ler.DAT_VCT.astype('str')\n",
    "ler['QTD_CLI_CAD_POS'] = ler.QTD_CLI_CAD_POS.astype('str')\n",
    "ler['QTD_PGT'] = ler.QTD_PGT.astype('str')"
   ]
  },
  {
   "cell_type": "code",
   "execution_count": 10,
   "metadata": {},
   "outputs": [
    {
     "data": {
      "text/plain": [
       "ID_STG_PGT          int64\n",
       "VLR_PGT_FAT        object\n",
       "DAT_VCT            object\n",
       "COD_MDL            object\n",
       "QTD_CLI_CAD_POS    object\n",
       "QTD_PGT            object\n",
       "ID_FNT_ITT          int64\n",
       "DES_TIP_PSS        object\n",
       "DAT_RSS_FNT_ITT    object\n",
       "DAT_INC_DBO        object\n",
       "DTA_VCT            object\n",
       "dtype: object"
      ]
     },
     "execution_count": 10,
     "metadata": {},
     "output_type": "execute_result"
    }
   ],
   "source": [
    "ler.dtypes"
   ]
  },
  {
   "cell_type": "code",
   "execution_count": 11,
   "metadata": {},
   "outputs": [],
   "source": [
    "ler.to_csv('stg_pgt.csv', index=False, header=True)"
   ]
  },
  {
   "cell_type": "code",
   "execution_count": null,
   "metadata": {},
   "outputs": [],
   "source": []
  }
 ],
 "metadata": {
  "kernelspec": {
   "display_name": "Python 3",
   "language": "python",
   "name": "python3"
  },
  "language_info": {
   "codemirror_mode": {
    "name": "ipython",
    "version": 3
   },
   "file_extension": ".py",
   "mimetype": "text/x-python",
   "name": "python",
   "nbconvert_exporter": "python",
   "pygments_lexer": "ipython3",
   "version": "3.8.2"
  }
 },
 "nbformat": 4,
 "nbformat_minor": 2
}
